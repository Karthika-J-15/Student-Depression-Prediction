{
 "cells": [
  {
   "cell_type": "code",
   "execution_count": 3,
   "id": "ba91ebed-5dc7-48a5-87ff-7c32d76a5e75",
   "metadata": {},
   "outputs": [],
   "source": [
    "import pandas as pd\n",
    "import numpy as np\n",
    "import matplotlib.pyplot as plt\n",
    "import seaborn as sns\n",
    "import warnings\n",
    "warnings.filterwarnings('ignore')"
   ]
  },
  {
   "cell_type": "code",
   "execution_count": 4,
   "id": "9ad042a2-2e8a-4024-8d8f-522c511804cd",
   "metadata": {},
   "outputs": [
    {
     "data": {
      "text/html": [
       "<div>\n",
       "<style scoped>\n",
       "    .dataframe tbody tr th:only-of-type {\n",
       "        vertical-align: middle;\n",
       "    }\n",
       "\n",
       "    .dataframe tbody tr th {\n",
       "        vertical-align: top;\n",
       "    }\n",
       "\n",
       "    .dataframe thead th {\n",
       "        text-align: right;\n",
       "    }\n",
       "</style>\n",
       "<table border=\"1\" class=\"dataframe\">\n",
       "  <thead>\n",
       "    <tr style=\"text-align: right;\">\n",
       "      <th></th>\n",
       "      <th>id</th>\n",
       "      <th>Gender</th>\n",
       "      <th>Age</th>\n",
       "      <th>City</th>\n",
       "      <th>Profession</th>\n",
       "      <th>Academic Pressure</th>\n",
       "      <th>Work Pressure</th>\n",
       "      <th>CGPA</th>\n",
       "      <th>Study Satisfaction</th>\n",
       "      <th>Job Satisfaction</th>\n",
       "      <th>Sleep Duration</th>\n",
       "      <th>Dietary Habits</th>\n",
       "      <th>Degree</th>\n",
       "      <th>suicidal thoughts</th>\n",
       "      <th>Study Hours</th>\n",
       "      <th>Financial Stress</th>\n",
       "      <th>Family History of Mental Illness</th>\n",
       "      <th>Depression</th>\n",
       "    </tr>\n",
       "  </thead>\n",
       "  <tbody>\n",
       "    <tr>\n",
       "      <th>0</th>\n",
       "      <td>2</td>\n",
       "      <td>Male</td>\n",
       "      <td>33</td>\n",
       "      <td>Visakhapatnam</td>\n",
       "      <td>Student</td>\n",
       "      <td>5</td>\n",
       "      <td>0</td>\n",
       "      <td>8.97</td>\n",
       "      <td>2</td>\n",
       "      <td>0</td>\n",
       "      <td>5-6 hours</td>\n",
       "      <td>Healthy</td>\n",
       "      <td>B.Pharm</td>\n",
       "      <td>Yes</td>\n",
       "      <td>3</td>\n",
       "      <td>1.0</td>\n",
       "      <td>No</td>\n",
       "      <td>1</td>\n",
       "    </tr>\n",
       "    <tr>\n",
       "      <th>1</th>\n",
       "      <td>8</td>\n",
       "      <td>Female</td>\n",
       "      <td>24</td>\n",
       "      <td>Bangalore</td>\n",
       "      <td>Student</td>\n",
       "      <td>2</td>\n",
       "      <td>0</td>\n",
       "      <td>5.90</td>\n",
       "      <td>5</td>\n",
       "      <td>0</td>\n",
       "      <td>5-6 hours</td>\n",
       "      <td>Moderate</td>\n",
       "      <td>BSc</td>\n",
       "      <td>No</td>\n",
       "      <td>3</td>\n",
       "      <td>2.0</td>\n",
       "      <td>Yes</td>\n",
       "      <td>0</td>\n",
       "    </tr>\n",
       "    <tr>\n",
       "      <th>2</th>\n",
       "      <td>26</td>\n",
       "      <td>Male</td>\n",
       "      <td>31</td>\n",
       "      <td>Srinagar</td>\n",
       "      <td>Student</td>\n",
       "      <td>3</td>\n",
       "      <td>0</td>\n",
       "      <td>7.03</td>\n",
       "      <td>5</td>\n",
       "      <td>0</td>\n",
       "      <td>Less than 5 hours</td>\n",
       "      <td>Healthy</td>\n",
       "      <td>BA</td>\n",
       "      <td>No</td>\n",
       "      <td>9</td>\n",
       "      <td>1.0</td>\n",
       "      <td>Yes</td>\n",
       "      <td>0</td>\n",
       "    </tr>\n",
       "    <tr>\n",
       "      <th>3</th>\n",
       "      <td>30</td>\n",
       "      <td>Female</td>\n",
       "      <td>28</td>\n",
       "      <td>Varanasi</td>\n",
       "      <td>Student</td>\n",
       "      <td>3</td>\n",
       "      <td>0</td>\n",
       "      <td>5.59</td>\n",
       "      <td>2</td>\n",
       "      <td>0</td>\n",
       "      <td>7-8 hours</td>\n",
       "      <td>Moderate</td>\n",
       "      <td>BCA</td>\n",
       "      <td>Yes</td>\n",
       "      <td>4</td>\n",
       "      <td>5.0</td>\n",
       "      <td>Yes</td>\n",
       "      <td>1</td>\n",
       "    </tr>\n",
       "    <tr>\n",
       "      <th>4</th>\n",
       "      <td>32</td>\n",
       "      <td>Female</td>\n",
       "      <td>25</td>\n",
       "      <td>Jaipur</td>\n",
       "      <td>Student</td>\n",
       "      <td>4</td>\n",
       "      <td>0</td>\n",
       "      <td>8.13</td>\n",
       "      <td>3</td>\n",
       "      <td>0</td>\n",
       "      <td>5-6 hours</td>\n",
       "      <td>Moderate</td>\n",
       "      <td>M.Tech</td>\n",
       "      <td>Yes</td>\n",
       "      <td>1</td>\n",
       "      <td>1.0</td>\n",
       "      <td>No</td>\n",
       "      <td>0</td>\n",
       "    </tr>\n",
       "  </tbody>\n",
       "</table>\n",
       "</div>"
      ],
      "text/plain": [
       "   id  Gender  Age           City Profession  Academic Pressure  \\\n",
       "0   2    Male   33  Visakhapatnam    Student                  5   \n",
       "1   8  Female   24      Bangalore    Student                  2   \n",
       "2  26    Male   31       Srinagar    Student                  3   \n",
       "3  30  Female   28       Varanasi    Student                  3   \n",
       "4  32  Female   25         Jaipur    Student                  4   \n",
       "\n",
       "   Work Pressure  CGPA  Study Satisfaction  Job Satisfaction  \\\n",
       "0              0  8.97                   2                 0   \n",
       "1              0  5.90                   5                 0   \n",
       "2              0  7.03                   5                 0   \n",
       "3              0  5.59                   2                 0   \n",
       "4              0  8.13                   3                 0   \n",
       "\n",
       "      Sleep Duration Dietary Habits   Degree suicidal thoughts  Study Hours  \\\n",
       "0          5-6 hours        Healthy  B.Pharm               Yes            3   \n",
       "1          5-6 hours       Moderate      BSc                No            3   \n",
       "2  Less than 5 hours        Healthy       BA                No            9   \n",
       "3          7-8 hours       Moderate      BCA               Yes            4   \n",
       "4          5-6 hours       Moderate   M.Tech               Yes            1   \n",
       "\n",
       "   Financial Stress Family History of Mental Illness  Depression  \n",
       "0               1.0                               No           1  \n",
       "1               2.0                              Yes           0  \n",
       "2               1.0                              Yes           0  \n",
       "3               5.0                              Yes           1  \n",
       "4               1.0                               No           0  "
      ]
     },
     "execution_count": 4,
     "metadata": {},
     "output_type": "execute_result"
    }
   ],
   "source": [
    "df=pd.read_excel(r\"C:\\Users\\user\\studentdepression\\Student_depression_dataset.xlsx\")\n",
    "df.head()"
   ]
  },
  {
   "cell_type": "code",
   "execution_count": 5,
   "id": "ec64a3d4-a443-4a81-843b-281d43dfeb5a",
   "metadata": {},
   "outputs": [
    {
     "data": {
      "text/plain": [
       "(21821, 18)"
      ]
     },
     "execution_count": 5,
     "metadata": {},
     "output_type": "execute_result"
    }
   ],
   "source": [
    "df.shape"
   ]
  },
  {
   "cell_type": "code",
   "execution_count": 6,
   "id": "f6353258-215c-4203-acc7-862ae361e427",
   "metadata": {},
   "outputs": [
    {
     "data": {
      "text/plain": [
       "id                                  0\n",
       "Gender                              0\n",
       "Age                                 0\n",
       "City                                0\n",
       "Profession                          0\n",
       "Academic Pressure                   0\n",
       "Work Pressure                       0\n",
       "CGPA                                0\n",
       "Study Satisfaction                  0\n",
       "Job Satisfaction                    0\n",
       "Sleep Duration                      0\n",
       "Dietary Habits                      0\n",
       "Degree                              0\n",
       "suicidal thoughts                   0\n",
       "Study Hours                         0\n",
       "Financial Stress                    3\n",
       "Family History of Mental Illness    0\n",
       "Depression                          0\n",
       "dtype: int64"
      ]
     },
     "execution_count": 6,
     "metadata": {},
     "output_type": "execute_result"
    }
   ],
   "source": [
    "df.isnull().sum()"
   ]
  },
  {
   "cell_type": "code",
   "execution_count": 7,
   "id": "bfb4db5c-a81f-4a3b-883f-84c4bd5e6bb1",
   "metadata": {},
   "outputs": [
    {
     "data": {
      "text/plain": [
       "id                                  0\n",
       "Gender                              0\n",
       "Age                                 0\n",
       "City                                0\n",
       "Profession                          0\n",
       "Academic Pressure                   0\n",
       "Work Pressure                       0\n",
       "CGPA                                0\n",
       "Study Satisfaction                  0\n",
       "Job Satisfaction                    0\n",
       "Sleep Duration                      0\n",
       "Dietary Habits                      0\n",
       "Degree                              0\n",
       "suicidal thoughts                   0\n",
       "Study Hours                         0\n",
       "Financial Stress                    0\n",
       "Family History of Mental Illness    0\n",
       "Depression                          0\n",
       "dtype: int64"
      ]
     },
     "execution_count": 7,
     "metadata": {},
     "output_type": "execute_result"
    }
   ],
   "source": [
    "df = df.dropna(subset=[\"Financial Stress\"])\n",
    "df.isnull().sum()"
   ]
  },
  {
   "cell_type": "code",
   "execution_count": 8,
   "id": "685d6df9-1289-4f97-a983-05828edd75ce",
   "metadata": {},
   "outputs": [
    {
     "data": {
      "text/plain": [
       "id                                  0\n",
       "Gender                              0\n",
       "Age                                 0\n",
       "City                                0\n",
       "Profession                          0\n",
       "Academic Pressure                   0\n",
       "Work Pressure                       0\n",
       "CGPA                                0\n",
       "Study Satisfaction                  0\n",
       "Job Satisfaction                    0\n",
       "Sleep Duration                      0\n",
       "Dietary Habits                      0\n",
       "Degree                              0\n",
       "suicidal thoughts                   0\n",
       "Study Hours                         0\n",
       "Financial Stress                    0\n",
       "Family History of Mental Illness    0\n",
       "Depression                          0\n",
       "dtype: int64"
      ]
     },
     "execution_count": 8,
     "metadata": {},
     "output_type": "execute_result"
    }
   ],
   "source": [
    "df.isna().sum()"
   ]
  },
  {
   "cell_type": "code",
   "execution_count": 9,
   "id": "33055330-7f13-4582-819a-79adcdd3143a",
   "metadata": {},
   "outputs": [
    {
     "data": {
      "text/plain": [
       "0"
      ]
     },
     "execution_count": 9,
     "metadata": {},
     "output_type": "execute_result"
    }
   ],
   "source": [
    "df.duplicated().sum()"
   ]
  },
  {
   "cell_type": "code",
   "execution_count": 10,
   "id": "42ab471f-b0ee-49c9-b35b-1137a38aeb97",
   "metadata": {},
   "outputs": [
    {
     "data": {
      "text/html": [
       "<div>\n",
       "<style scoped>\n",
       "    .dataframe tbody tr th:only-of-type {\n",
       "        vertical-align: middle;\n",
       "    }\n",
       "\n",
       "    .dataframe tbody tr th {\n",
       "        vertical-align: top;\n",
       "    }\n",
       "\n",
       "    .dataframe thead th {\n",
       "        text-align: right;\n",
       "    }\n",
       "</style>\n",
       "<table border=\"1\" class=\"dataframe\">\n",
       "  <thead>\n",
       "    <tr style=\"text-align: right;\">\n",
       "      <th></th>\n",
       "      <th>id</th>\n",
       "      <th>Age</th>\n",
       "      <th>Academic Pressure</th>\n",
       "      <th>Work Pressure</th>\n",
       "      <th>CGPA</th>\n",
       "      <th>Study Satisfaction</th>\n",
       "      <th>Job Satisfaction</th>\n",
       "      <th>Study Hours</th>\n",
       "      <th>Financial Stress</th>\n",
       "      <th>Depression</th>\n",
       "    </tr>\n",
       "  </thead>\n",
       "  <tbody>\n",
       "    <tr>\n",
       "      <th>count</th>\n",
       "      <td>21818.000000</td>\n",
       "      <td>21818.000000</td>\n",
       "      <td>21818.000000</td>\n",
       "      <td>21818.0</td>\n",
       "      <td>21818.000000</td>\n",
       "      <td>21818.000000</td>\n",
       "      <td>21818.000000</td>\n",
       "      <td>21818.000000</td>\n",
       "      <td>21818.000000</td>\n",
       "      <td>21818.000000</td>\n",
       "    </tr>\n",
       "    <tr>\n",
       "      <th>mean</th>\n",
       "      <td>70341.811944</td>\n",
       "      <td>27.407599</td>\n",
       "      <td>3.080576</td>\n",
       "      <td>0.0</td>\n",
       "      <td>7.673431</td>\n",
       "      <td>2.906683</td>\n",
       "      <td>0.000229</td>\n",
       "      <td>7.122651</td>\n",
       "      <td>3.101018</td>\n",
       "      <td>0.551471</td>\n",
       "    </tr>\n",
       "    <tr>\n",
       "      <th>std</th>\n",
       "      <td>40575.370558</td>\n",
       "      <td>4.038615</td>\n",
       "      <td>1.396575</td>\n",
       "      <td>0.0</td>\n",
       "      <td>1.476750</td>\n",
       "      <td>1.354483</td>\n",
       "      <td>0.024409</td>\n",
       "      <td>3.732273</td>\n",
       "      <td>1.442443</td>\n",
       "      <td>0.497355</td>\n",
       "    </tr>\n",
       "    <tr>\n",
       "      <th>min</th>\n",
       "      <td>2.000000</td>\n",
       "      <td>18.000000</td>\n",
       "      <td>0.000000</td>\n",
       "      <td>0.0</td>\n",
       "      <td>0.000000</td>\n",
       "      <td>0.000000</td>\n",
       "      <td>0.000000</td>\n",
       "      <td>0.000000</td>\n",
       "      <td>1.000000</td>\n",
       "      <td>0.000000</td>\n",
       "    </tr>\n",
       "    <tr>\n",
       "      <th>25%</th>\n",
       "      <td>35109.500000</td>\n",
       "      <td>24.000000</td>\n",
       "      <td>2.000000</td>\n",
       "      <td>0.0</td>\n",
       "      <td>6.297500</td>\n",
       "      <td>2.000000</td>\n",
       "      <td>0.000000</td>\n",
       "      <td>4.000000</td>\n",
       "      <td>2.000000</td>\n",
       "      <td>0.000000</td>\n",
       "    </tr>\n",
       "    <tr>\n",
       "      <th>50%</th>\n",
       "      <td>70455.500000</td>\n",
       "      <td>28.000000</td>\n",
       "      <td>3.000000</td>\n",
       "      <td>0.0</td>\n",
       "      <td>7.770000</td>\n",
       "      <td>3.000000</td>\n",
       "      <td>0.000000</td>\n",
       "      <td>8.000000</td>\n",
       "      <td>3.000000</td>\n",
       "      <td>1.000000</td>\n",
       "    </tr>\n",
       "    <tr>\n",
       "      <th>75%</th>\n",
       "      <td>105665.250000</td>\n",
       "      <td>31.000000</td>\n",
       "      <td>4.000000</td>\n",
       "      <td>0.0</td>\n",
       "      <td>8.950000</td>\n",
       "      <td>4.000000</td>\n",
       "      <td>0.000000</td>\n",
       "      <td>10.000000</td>\n",
       "      <td>4.000000</td>\n",
       "      <td>1.000000</td>\n",
       "    </tr>\n",
       "    <tr>\n",
       "      <th>max</th>\n",
       "      <td>140699.000000</td>\n",
       "      <td>59.000000</td>\n",
       "      <td>5.000000</td>\n",
       "      <td>0.0</td>\n",
       "      <td>10.000000</td>\n",
       "      <td>5.000000</td>\n",
       "      <td>3.000000</td>\n",
       "      <td>12.000000</td>\n",
       "      <td>5.000000</td>\n",
       "      <td>1.000000</td>\n",
       "    </tr>\n",
       "  </tbody>\n",
       "</table>\n",
       "</div>"
      ],
      "text/plain": [
       "                  id           Age  Academic Pressure  Work Pressure  \\\n",
       "count   21818.000000  21818.000000       21818.000000        21818.0   \n",
       "mean    70341.811944     27.407599           3.080576            0.0   \n",
       "std     40575.370558      4.038615           1.396575            0.0   \n",
       "min         2.000000     18.000000           0.000000            0.0   \n",
       "25%     35109.500000     24.000000           2.000000            0.0   \n",
       "50%     70455.500000     28.000000           3.000000            0.0   \n",
       "75%    105665.250000     31.000000           4.000000            0.0   \n",
       "max    140699.000000     59.000000           5.000000            0.0   \n",
       "\n",
       "               CGPA  Study Satisfaction  Job Satisfaction   Study Hours  \\\n",
       "count  21818.000000        21818.000000      21818.000000  21818.000000   \n",
       "mean       7.673431            2.906683          0.000229      7.122651   \n",
       "std        1.476750            1.354483          0.024409      3.732273   \n",
       "min        0.000000            0.000000          0.000000      0.000000   \n",
       "25%        6.297500            2.000000          0.000000      4.000000   \n",
       "50%        7.770000            3.000000          0.000000      8.000000   \n",
       "75%        8.950000            4.000000          0.000000     10.000000   \n",
       "max       10.000000            5.000000          3.000000     12.000000   \n",
       "\n",
       "       Financial Stress    Depression  \n",
       "count      21818.000000  21818.000000  \n",
       "mean           3.101018      0.551471  \n",
       "std            1.442443      0.497355  \n",
       "min            1.000000      0.000000  \n",
       "25%            2.000000      0.000000  \n",
       "50%            3.000000      1.000000  \n",
       "75%            4.000000      1.000000  \n",
       "max            5.000000      1.000000  "
      ]
     },
     "execution_count": 10,
     "metadata": {},
     "output_type": "execute_result"
    }
   ],
   "source": [
    "df.describe()"
   ]
  },
  {
   "cell_type": "code",
   "execution_count": 11,
   "id": "3b90c5ad-71ae-414e-bec3-c30f0ce51159",
   "metadata": {},
   "outputs": [
    {
     "data": {
      "text/plain": [
       "(21818, 18)"
      ]
     },
     "execution_count": 11,
     "metadata": {},
     "output_type": "execute_result"
    }
   ],
   "source": [
    "df.shape"
   ]
  },
  {
   "cell_type": "code",
   "execution_count": 12,
   "id": "818942e9-2bb9-4be4-8bc0-614b5252e474",
   "metadata": {},
   "outputs": [
    {
     "data": {
      "text/plain": [
       "(21787, 18)"
      ]
     },
     "execution_count": 12,
     "metadata": {},
     "output_type": "execute_result"
    }
   ],
   "source": [
    "df= df[df['Profession'].str.lower() == 'student']\n",
    "df.shape"
   ]
  },
  {
   "cell_type": "code",
   "execution_count": 13,
   "id": "f110920b-d154-4727-921a-c09d7803e722",
   "metadata": {},
   "outputs": [],
   "source": [
    "df = df[df['Dietary Habits'] != 'Others']\n",
    "df = df[df['Sleep Duration'] != 'Others']"
   ]
  },
  {
   "cell_type": "code",
   "execution_count": 14,
   "id": "ed557ad6-118f-4b86-b2c6-94c5f0d10a46",
   "metadata": {},
   "outputs": [
    {
     "data": {
      "text/plain": [
       "(21758, 12)"
      ]
     },
     "execution_count": 14,
     "metadata": {},
     "output_type": "execute_result"
    }
   ],
   "source": [
    "df = df.drop(columns=['id', 'City', 'Profession', 'Work Pressure', 'Job Satisfaction', 'Degree'])\n",
    "df.shape"
   ]
  },
  {
   "cell_type": "code",
   "execution_count": 15,
   "id": "594f60f4-f9bf-427a-ac44-e9bbc9b13f35",
   "metadata": {},
   "outputs": [
    {
     "data": {
      "image/png": "[encoded data removed]",
      "text/plain": [
       "<Figure size 1000x500 with 1 Axes>"
      ]
     },
     "metadata": {},
     "output_type": "display_data"
    }
   ],
   "source": [
    "df.plot(kind='box', figsize=(10, 5), patch_artist=True, boxprops=dict(facecolor='purple'))\n",
    "plt.title(\"Boxplot for All Columns\")\n",
    "plt.tight_layout()\n",
    "plt.show()"
   ]
  },
  {
   "cell_type": "code",
   "execution_count": 16,
   "id": "bc60d71f-0884-4616-aff3-1ef8b1c92b71",
   "metadata": {},
   "outputs": [
    {
     "data": {
      "image/png": "[encoded data removed]",
      "text/plain": [
       "<Figure size 1000x300 with 2 Axes>"
      ]
     },
     "metadata": {},
     "output_type": "display_data"
    }
   ],
   "source": [
    "fig, axes = plt.subplots(1, 2, figsize=(10,3))\n",
    "sns.boxplot(y='Age', data=df, palette='Set2', ax=axes[0])\n",
    "axes[0].set_title('Age')\n",
    "sns.boxplot(y='CGPA', data=df, palette='Set2', ax=axes[1])\n",
    "axes[1].set_title('CGPA')\n",
    "plt.show()"
   ]
  },
  {
   "cell_type": "code",
   "execution_count": 17,
   "id": "a84008e8-b06a-42d7-aa2d-c0117a203057",
   "metadata": {},
   "outputs": [
    {
     "data": {
      "text/plain": [
       "(21758, 12)"
      ]
     },
     "execution_count": 17,
     "metadata": {},
     "output_type": "execute_result"
    }
   ],
   "source": [
    "df.shape"
   ]
  },
  {
   "cell_type": "code",
   "execution_count": 18,
   "id": "02add230-f7e9-4cd2-be4b-23cb2565083c",
   "metadata": {},
   "outputs": [
    {
     "data": {
      "text/plain": [
       "(21743, 12)"
      ]
     },
     "execution_count": 18,
     "metadata": {},
     "output_type": "execute_result"
    }
   ],
   "source": [
    "Q1_age = df['Age'].quantile(0.25)\n",
    "Q3_age = df['Age'].quantile(0.75)\n",
    "IQR_age = Q3_age - Q1_age\n",
    "lower_bound_age = Q1_age - 1.5 * IQR_age\n",
    "upper_bound_age = Q3_age + 1.5 * IQR_age\n",
    "\n",
    "Q1_cgpa = df['CGPA'].quantile(0.25)\n",
    "Q3_cgpa = df['CGPA'].quantile(0.75)\n",
    "IQR_cgpa = Q3_cgpa - Q1_cgpa\n",
    "lower_bound_cgpa = Q1_cgpa - 1.5 * IQR_cgpa\n",
    "upper_bound_cgpa = Q3_cgpa + 1.5 * IQR_cgpa\n",
    "\n",
    "# Filter dataframe once with BOTH conditions simultaneously\n",
    "df = df[\n",
    "    (df['Age'] >= lower_bound_age) & (df['Age'] <= upper_bound_age) &\n",
    "    (df['CGPA'] >= lower_bound_cgpa) & (df['CGPA'] <= upper_bound_cgpa)\n",
    "]\n",
    "\n",
    "df.shape\n"
   ]
  },
  {
   "cell_type": "code",
   "execution_count": 19,
   "id": "ab9b0b7a-4e97-4428-ae4b-ab41d16c4c78",
   "metadata": {},
   "outputs": [
    {
     "data": {
      "image/png": "[encoded data removed]",
      "text/plain": [
       "<Figure size 1000x300 with 2 Axes>"
      ]
     },
     "metadata": {},
     "output_type": "display_data"
    }
   ],
   "source": [
    "fig, axes = plt.subplots(1, 2, figsize=(10,3))\n",
    "sns.boxplot(y='Age', data=df, palette='Set2', ax=axes[0])\n",
    "axes[0].set_title('Age')\n",
    "sns.boxplot(y='CGPA', data=df, palette='Set2', ax=axes[1])\n",
    "axes[1].set_title('CGPA')\n",
    "plt.show()"
   ]
  },
  {
   "cell_type": "code",
   "execution_count": 20,
   "id": "cca8c3b2-1693-4650-973e-b6904028e2f7",
   "metadata": {},
   "outputs": [
    {
     "name": "stdout",
     "output_type": "stream",
     "text": [
      "<class 'pandas.core.frame.DataFrame'>\n",
      "Index: 21743 entries, 0 to 21820\n",
      "Data columns (total 12 columns):\n",
      " #   Column                            Non-Null Count  Dtype  \n",
      "---  ------                            --------------  -----  \n",
      " 0   Gender                            21743 non-null  object \n",
      " 1   Age                               21743 non-null  int64  \n",
      " 2   Academic Pressure                 21743 non-null  int64  \n",
      " 3   CGPA                              21743 non-null  float64\n",
      " 4   Study Satisfaction                21743 non-null  int64  \n",
      " 5   Sleep Duration                    21743 non-null  object \n",
      " 6   Dietary Habits                    21743 non-null  object \n",
      " 7   suicidal thoughts                 21743 non-null  object \n",
      " 8   Study Hours                       21743 non-null  int64  \n",
      " 9   Financial Stress                  21743 non-null  float64\n",
      " 10  Family History of Mental Illness  21743 non-null  object \n",
      " 11  Depression                        21743 non-null  int64  \n",
      "dtypes: float64(2), int64(5), object(5)\n",
      "memory usage: 2.2+ MB\n"
     ]
    }
   ],
   "source": [
    "df.info()"
   ]
  },
  {
   "cell_type": "code",
   "execution_count": 21,
   "id": "291fbb1e-c74a-4b85-ba9f-52f83a0eb84c",
   "metadata": {},
   "outputs": [
    {
     "data": {
      "text/html": [
       "<div>\n",
       "<style scoped>\n",
       "    .dataframe tbody tr th:only-of-type {\n",
       "        vertical-align: middle;\n",
       "    }\n",
       "\n",
       "    .dataframe tbody tr th {\n",
       "        vertical-align: top;\n",
       "    }\n",
       "\n",
       "    .dataframe thead th {\n",
       "        text-align: right;\n",
       "    }\n",
       "</style>\n",
       "<table border=\"1\" class=\"dataframe\">\n",
       "  <thead>\n",
       "    <tr style=\"text-align: right;\">\n",
       "      <th></th>\n",
       "      <th>Gender</th>\n",
       "      <th>Age</th>\n",
       "      <th>Academic Pressure</th>\n",
       "      <th>CGPA</th>\n",
       "      <th>Study Satisfaction</th>\n",
       "      <th>Sleep Duration</th>\n",
       "      <th>Dietary Habits</th>\n",
       "      <th>suicidal thoughts</th>\n",
       "      <th>Study Hours</th>\n",
       "      <th>Financial Stress</th>\n",
       "      <th>Family History of Mental Illness</th>\n",
       "      <th>Depression</th>\n",
       "    </tr>\n",
       "  </thead>\n",
       "  <tbody>\n",
       "    <tr>\n",
       "      <th>21816</th>\n",
       "      <td>1</td>\n",
       "      <td>23</td>\n",
       "      <td>3</td>\n",
       "      <td>6.00</td>\n",
       "      <td>2</td>\n",
       "      <td>More than 8 hours</td>\n",
       "      <td>Healthy</td>\n",
       "      <td>1</td>\n",
       "      <td>12</td>\n",
       "      <td>4.0</td>\n",
       "      <td>0</td>\n",
       "      <td>0</td>\n",
       "    </tr>\n",
       "    <tr>\n",
       "      <th>21817</th>\n",
       "      <td>1</td>\n",
       "      <td>31</td>\n",
       "      <td>2</td>\n",
       "      <td>7.27</td>\n",
       "      <td>5</td>\n",
       "      <td>7-8 hours</td>\n",
       "      <td>Moderate</td>\n",
       "      <td>1</td>\n",
       "      <td>6</td>\n",
       "      <td>1.0</td>\n",
       "      <td>1</td>\n",
       "      <td>0</td>\n",
       "    </tr>\n",
       "    <tr>\n",
       "      <th>21818</th>\n",
       "      <td>1</td>\n",
       "      <td>27</td>\n",
       "      <td>2</td>\n",
       "      <td>9.40</td>\n",
       "      <td>3</td>\n",
       "      <td>Less than 5 hours</td>\n",
       "      <td>Healthy</td>\n",
       "      <td>0</td>\n",
       "      <td>0</td>\n",
       "      <td>3.0</td>\n",
       "      <td>1</td>\n",
       "      <td>0</td>\n",
       "    </tr>\n",
       "    <tr>\n",
       "      <th>21819</th>\n",
       "      <td>1</td>\n",
       "      <td>31</td>\n",
       "      <td>3</td>\n",
       "      <td>6.61</td>\n",
       "      <td>4</td>\n",
       "      <td>5-6 hours</td>\n",
       "      <td>Unhealthy</td>\n",
       "      <td>0</td>\n",
       "      <td>12</td>\n",
       "      <td>2.0</td>\n",
       "      <td>0</td>\n",
       "      <td>0</td>\n",
       "    </tr>\n",
       "    <tr>\n",
       "      <th>21820</th>\n",
       "      <td>1</td>\n",
       "      <td>27</td>\n",
       "      <td>4</td>\n",
       "      <td>9.24</td>\n",
       "      <td>1</td>\n",
       "      <td>Less than 5 hours</td>\n",
       "      <td>Healthy</td>\n",
       "      <td>1</td>\n",
       "      <td>2</td>\n",
       "      <td>3.0</td>\n",
       "      <td>1</td>\n",
       "      <td>1</td>\n",
       "    </tr>\n",
       "  </tbody>\n",
       "</table>\n",
       "</div>"
      ],
      "text/plain": [
       "       Gender  Age  Academic Pressure  CGPA  Study Satisfaction  \\\n",
       "21816       1   23                  3  6.00                   2   \n",
       "21817       1   31                  2  7.27                   5   \n",
       "21818       1   27                  2  9.40                   3   \n",
       "21819       1   31                  3  6.61                   4   \n",
       "21820       1   27                  4  9.24                   1   \n",
       "\n",
       "          Sleep Duration Dietary Habits  suicidal thoughts  Study Hours  \\\n",
       "21816  More than 8 hours        Healthy                  1           12   \n",
       "21817          7-8 hours       Moderate                  1            6   \n",
       "21818  Less than 5 hours        Healthy                  0            0   \n",
       "21819          5-6 hours      Unhealthy                  0           12   \n",
       "21820  Less than 5 hours        Healthy                  1            2   \n",
       "\n",
       "       Financial Stress  Family History of Mental Illness  Depression  \n",
       "21816               4.0                                 0           0  \n",
       "21817               1.0                                 1           0  \n",
       "21818               3.0                                 1           0  \n",
       "21819               2.0                                 0           0  \n",
       "21820               3.0                                 1           1  "
      ]
     },
     "execution_count": 21,
     "metadata": {},
     "output_type": "execute_result"
    }
   ],
   "source": [
    "# Map values to numeric 0 and 1\n",
    "df['Gender'] = df['Gender'].map({'Female': 0, 'Male': 1})\n",
    "df['suicidal thoughts'] = df['suicidal thoughts'].map({'No': 0, 'Yes': 1})\n",
    "df['Family History of Mental Illness'] = df['Family History of Mental Illness'].map({'No': 0, 'Yes': 1})\n",
    "df.tail()\n"
   ]
  },
  {
   "cell_type": "code",
   "execution_count": 22,
   "id": "0d4cb46a-c528-4d15-91f8-ac5836bee29d",
   "metadata": {},
   "outputs": [
    {
     "name": "stdout",
     "output_type": "stream",
     "text": [
      "{'5-6 hours': 0, '7-8 hours': 1, 'Less than 5 hours': 2, 'More than 8 hours': 3}\n"
     ]
    }
   ],
   "source": [
    "from sklearn.preprocessing import LabelEncoder\n",
    "le = LabelEncoder()\n",
    "# Fit and transform the column\n",
    "df['Sleep Duration_encoded'] = le.fit_transform(df['Sleep Duration'])\n",
    "label_map = dict(zip(le.classes_, le.transform(le.classes_)))\n",
    "print(label_map)"
   ]
  },
  {
   "cell_type": "code",
   "execution_count": 23,
   "id": "792fd0f7-453a-4973-bf7f-cfdb544eb03b",
   "metadata": {},
   "outputs": [
    {
     "name": "stdout",
     "output_type": "stream",
     "text": [
      "{'Healthy': 0, 'Moderate': 1, 'Unhealthy': 2}\n"
     ]
    }
   ],
   "source": [
    "le_diet = LabelEncoder()\n",
    "df['Dietary Habits_encoded'] = le_diet.fit_transform(df['Dietary Habits'])\n",
    "diet_map = dict(zip(le_diet.classes_, le_diet.transform(le_diet.classes_)))\n",
    "print(diet_map)"
   ]
  },
  {
   "cell_type": "code",
   "execution_count": 24,
   "id": "783ad157-24ec-4083-ac6e-acb09a852f29",
   "metadata": {},
   "outputs": [
    {
     "data": {
      "text/plain": [
       "Gender                              0\n",
       "Age                                 0\n",
       "Academic Pressure                   0\n",
       "CGPA                                0\n",
       "Study Satisfaction                  0\n",
       "Sleep Duration                      0\n",
       "Dietary Habits                      0\n",
       "suicidal thoughts                   0\n",
       "Study Hours                         0\n",
       "Financial Stress                    0\n",
       "Family History of Mental Illness    0\n",
       "Depression                          0\n",
       "Sleep Duration_encoded              0\n",
       "Dietary Habits_encoded              0\n",
       "dtype: int64"
      ]
     },
     "execution_count": 24,
     "metadata": {},
     "output_type": "execute_result"
    }
   ],
   "source": [
    "df.isna().sum()"
   ]
  },
  {
   "cell_type": "code",
   "execution_count": 25,
   "id": "b2625c27-06ba-4d8e-a77a-88ff0b58ee9f",
   "metadata": {},
   "outputs": [
    {
     "data": {
      "text/html": [
       "<div>\n",
       "<style scoped>\n",
       "    .dataframe tbody tr th:only-of-type {\n",
       "        vertical-align: middle;\n",
       "    }\n",
       "\n",
       "    .dataframe tbody tr th {\n",
       "        vertical-align: top;\n",
       "    }\n",
       "\n",
       "    .dataframe thead th {\n",
       "        text-align: right;\n",
       "    }\n",
       "</style>\n",
       "<table border=\"1\" class=\"dataframe\">\n",
       "  <thead>\n",
       "    <tr style=\"text-align: right;\">\n",
       "      <th></th>\n",
       "      <th>Gender</th>\n",
       "      <th>Age</th>\n",
       "      <th>Academic Pressure</th>\n",
       "      <th>CGPA</th>\n",
       "      <th>Study Satisfaction</th>\n",
       "      <th>suicidal thoughts</th>\n",
       "      <th>Study Hours</th>\n",
       "      <th>Financial Stress</th>\n",
       "      <th>Family History of Mental Illness</th>\n",
       "      <th>Depression</th>\n",
       "      <th>Sleep Duration_encoded</th>\n",
       "      <th>Dietary Habits_encoded</th>\n",
       "    </tr>\n",
       "  </thead>\n",
       "  <tbody>\n",
       "    <tr>\n",
       "      <th>21816</th>\n",
       "      <td>1</td>\n",
       "      <td>23</td>\n",
       "      <td>3</td>\n",
       "      <td>6.00</td>\n",
       "      <td>2</td>\n",
       "      <td>1</td>\n",
       "      <td>12</td>\n",
       "      <td>4.0</td>\n",
       "      <td>0</td>\n",
       "      <td>0</td>\n",
       "      <td>3</td>\n",
       "      <td>0</td>\n",
       "    </tr>\n",
       "    <tr>\n",
       "      <th>21817</th>\n",
       "      <td>1</td>\n",
       "      <td>31</td>\n",
       "      <td>2</td>\n",
       "      <td>7.27</td>\n",
       "      <td>5</td>\n",
       "      <td>1</td>\n",
       "      <td>6</td>\n",
       "      <td>1.0</td>\n",
       "      <td>1</td>\n",
       "      <td>0</td>\n",
       "      <td>1</td>\n",
       "      <td>1</td>\n",
       "    </tr>\n",
       "    <tr>\n",
       "      <th>21818</th>\n",
       "      <td>1</td>\n",
       "      <td>27</td>\n",
       "      <td>2</td>\n",
       "      <td>9.40</td>\n",
       "      <td>3</td>\n",
       "      <td>0</td>\n",
       "      <td>0</td>\n",
       "      <td>3.0</td>\n",
       "      <td>1</td>\n",
       "      <td>0</td>\n",
       "      <td>2</td>\n",
       "      <td>0</td>\n",
       "    </tr>\n",
       "    <tr>\n",
       "      <th>21819</th>\n",
       "      <td>1</td>\n",
       "      <td>31</td>\n",
       "      <td>3</td>\n",
       "      <td>6.61</td>\n",
       "      <td>4</td>\n",
       "      <td>0</td>\n",
       "      <td>12</td>\n",
       "      <td>2.0</td>\n",
       "      <td>0</td>\n",
       "      <td>0</td>\n",
       "      <td>0</td>\n",
       "      <td>2</td>\n",
       "    </tr>\n",
       "    <tr>\n",
       "      <th>21820</th>\n",
       "      <td>1</td>\n",
       "      <td>27</td>\n",
       "      <td>4</td>\n",
       "      <td>9.24</td>\n",
       "      <td>1</td>\n",
       "      <td>1</td>\n",
       "      <td>2</td>\n",
       "      <td>3.0</td>\n",
       "      <td>1</td>\n",
       "      <td>1</td>\n",
       "      <td>2</td>\n",
       "      <td>0</td>\n",
       "    </tr>\n",
       "  </tbody>\n",
       "</table>\n",
       "</div>"
      ],
      "text/plain": [
       "       Gender  Age  Academic Pressure  CGPA  Study Satisfaction  \\\n",
       "21816       1   23                  3  6.00                   2   \n",
       "21817       1   31                  2  7.27                   5   \n",
       "21818       1   27                  2  9.40                   3   \n",
       "21819       1   31                  3  6.61                   4   \n",
       "21820       1   27                  4  9.24                   1   \n",
       "\n",
       "       suicidal thoughts  Study Hours  Financial Stress  \\\n",
       "21816                  1           12               4.0   \n",
       "21817                  1            6               1.0   \n",
       "21818                  0            0               3.0   \n",
       "21819                  0           12               2.0   \n",
       "21820                  1            2               3.0   \n",
       "\n",
       "       Family History of Mental Illness  Depression  Sleep Duration_encoded  \\\n",
       "21816                                 0           0                       3   \n",
       "21817                                 1           0                       1   \n",
       "21818                                 1           0                       2   \n",
       "21819                                 0           0                       0   \n",
       "21820                                 1           1                       2   \n",
       "\n",
       "       Dietary Habits_encoded  \n",
       "21816                       0  \n",
       "21817                       1  \n",
       "21818                       0  \n",
       "21819                       2  \n",
       "21820                       0  "
      ]
     },
     "execution_count": 25,
     "metadata": {},
     "output_type": "execute_result"
    }
   ],
   "source": [
    "df1=df.drop(columns=[\"Sleep Duration\",\"Dietary Habits\"])\n",
    "df1.tail()"
   ]
  },
  {
   "cell_type": "code",
   "execution_count": 26,
   "id": "b1844506-6fff-43a4-9d3e-3d8fc7988f28",
   "metadata": {},
   "outputs": [
    {
     "data": {
      "text/html": [
       "<div>\n",
       "<style scoped>\n",
       "    .dataframe tbody tr th:only-of-type {\n",
       "        vertical-align: middle;\n",
       "    }\n",
       "\n",
       "    .dataframe tbody tr th {\n",
       "        vertical-align: top;\n",
       "    }\n",
       "\n",
       "    .dataframe thead th {\n",
       "        text-align: right;\n",
       "    }\n",
       "</style>\n",
       "<table border=\"1\" class=\"dataframe\">\n",
       "  <thead>\n",
       "    <tr style=\"text-align: right;\">\n",
       "      <th></th>\n",
       "      <th>Gender</th>\n",
       "      <th>Age</th>\n",
       "      <th>Academic Pressure</th>\n",
       "      <th>CGPA</th>\n",
       "      <th>Study Satisfaction</th>\n",
       "      <th>suicidal thoughts</th>\n",
       "      <th>Study Hours</th>\n",
       "      <th>Financial Stress</th>\n",
       "      <th>Family History of Mental Illness</th>\n",
       "      <th>Depression</th>\n",
       "      <th>Sleep Duration_encoded</th>\n",
       "      <th>Dietary Habits_encoded</th>\n",
       "    </tr>\n",
       "  </thead>\n",
       "  <tbody>\n",
       "    <tr>\n",
       "      <th>Gender</th>\n",
       "      <td>1.000000</td>\n",
       "      <td>0.005933</td>\n",
       "      <td>-0.024746</td>\n",
       "      <td>0.038359</td>\n",
       "      <td>-0.009073</td>\n",
       "      <td>0.005533</td>\n",
       "      <td>0.011328</td>\n",
       "      <td>-0.004564</td>\n",
       "      <td>-0.013845</td>\n",
       "      <td>0.003232</td>\n",
       "      <td>0.005481</td>\n",
       "      <td>0.059356</td>\n",
       "    </tr>\n",
       "    <tr>\n",
       "      <th>Age</th>\n",
       "      <td>0.005933</td>\n",
       "      <td>1.000000</td>\n",
       "      <td>-0.030287</td>\n",
       "      <td>-0.007411</td>\n",
       "      <td>0.072552</td>\n",
       "      <td>-0.102067</td>\n",
       "      <td>-0.032205</td>\n",
       "      <td>-0.094063</td>\n",
       "      <td>-0.001856</td>\n",
       "      <td>-0.197623</td>\n",
       "      <td>-0.000052</td>\n",
       "      <td>-0.054718</td>\n",
       "    </tr>\n",
       "    <tr>\n",
       "      <th>Academic Pressure</th>\n",
       "      <td>-0.024746</td>\n",
       "      <td>-0.030287</td>\n",
       "      <td>1.000000</td>\n",
       "      <td>-0.021276</td>\n",
       "      <td>-0.119791</td>\n",
       "      <td>0.265533</td>\n",
       "      <td>0.097818</td>\n",
       "      <td>0.152639</td>\n",
       "      <td>0.030116</td>\n",
       "      <td>0.474682</td>\n",
       "      <td>-0.009565</td>\n",
       "      <td>0.092421</td>\n",
       "    </tr>\n",
       "    <tr>\n",
       "      <th>CGPA</th>\n",
       "      <td>0.038359</td>\n",
       "      <td>-0.007411</td>\n",
       "      <td>-0.021276</td>\n",
       "      <td>1.000000</td>\n",
       "      <td>-0.049639</td>\n",
       "      <td>0.013098</td>\n",
       "      <td>0.006099</td>\n",
       "      <td>0.014274</td>\n",
       "      <td>-0.004419</td>\n",
       "      <td>0.031478</td>\n",
       "      <td>-0.015433</td>\n",
       "      <td>-0.004959</td>\n",
       "    </tr>\n",
       "    <tr>\n",
       "      <th>Study Satisfaction</th>\n",
       "      <td>-0.009073</td>\n",
       "      <td>0.072552</td>\n",
       "      <td>-0.119791</td>\n",
       "      <td>-0.049639</td>\n",
       "      <td>1.000000</td>\n",
       "      <td>-0.098392</td>\n",
       "      <td>-0.043836</td>\n",
       "      <td>-0.075372</td>\n",
       "      <td>-0.000586</td>\n",
       "      <td>-0.189568</td>\n",
       "      <td>0.003972</td>\n",
       "      <td>-0.026435</td>\n",
       "    </tr>\n",
       "    <tr>\n",
       "      <th>suicidal thoughts</th>\n",
       "      <td>0.005533</td>\n",
       "      <td>-0.102067</td>\n",
       "      <td>0.265533</td>\n",
       "      <td>0.013098</td>\n",
       "      <td>-0.098392</td>\n",
       "      <td>1.000000</td>\n",
       "      <td>0.117204</td>\n",
       "      <td>0.211259</td>\n",
       "      <td>0.025963</td>\n",
       "      <td>0.550010</td>\n",
       "      <td>-0.032042</td>\n",
       "      <td>0.114964</td>\n",
       "    </tr>\n",
       "    <tr>\n",
       "      <th>Study Hours</th>\n",
       "      <td>0.011328</td>\n",
       "      <td>-0.032205</td>\n",
       "      <td>0.097818</td>\n",
       "      <td>0.006099</td>\n",
       "      <td>-0.043836</td>\n",
       "      <td>0.117204</td>\n",
       "      <td>1.000000</td>\n",
       "      <td>0.078887</td>\n",
       "      <td>0.014590</td>\n",
       "      <td>0.208990</td>\n",
       "      <td>-0.043013</td>\n",
       "      <td>0.030500</td>\n",
       "    </tr>\n",
       "    <tr>\n",
       "      <th>Financial Stress</th>\n",
       "      <td>-0.004564</td>\n",
       "      <td>-0.094063</td>\n",
       "      <td>0.152639</td>\n",
       "      <td>0.014274</td>\n",
       "      <td>-0.075372</td>\n",
       "      <td>0.211259</td>\n",
       "      <td>0.078887</td>\n",
       "      <td>1.000000</td>\n",
       "      <td>0.005212</td>\n",
       "      <td>0.364610</td>\n",
       "      <td>-0.009284</td>\n",
       "      <td>0.087147</td>\n",
       "    </tr>\n",
       "    <tr>\n",
       "      <th>Family History of Mental Illness</th>\n",
       "      <td>-0.013845</td>\n",
       "      <td>-0.001856</td>\n",
       "      <td>0.030116</td>\n",
       "      <td>-0.004419</td>\n",
       "      <td>-0.000586</td>\n",
       "      <td>0.025963</td>\n",
       "      <td>0.014590</td>\n",
       "      <td>0.005212</td>\n",
       "      <td>1.000000</td>\n",
       "      <td>0.053792</td>\n",
       "      <td>0.004468</td>\n",
       "      <td>0.009453</td>\n",
       "    </tr>\n",
       "    <tr>\n",
       "      <th>Depression</th>\n",
       "      <td>0.003232</td>\n",
       "      <td>-0.197623</td>\n",
       "      <td>0.474682</td>\n",
       "      <td>0.031478</td>\n",
       "      <td>-0.189568</td>\n",
       "      <td>0.550010</td>\n",
       "      <td>0.208990</td>\n",
       "      <td>0.364610</td>\n",
       "      <td>0.053792</td>\n",
       "      <td>1.000000</td>\n",
       "      <td>-0.033713</td>\n",
       "      <td>0.210280</td>\n",
       "    </tr>\n",
       "    <tr>\n",
       "      <th>Sleep Duration_encoded</th>\n",
       "      <td>0.005481</td>\n",
       "      <td>-0.000052</td>\n",
       "      <td>-0.009565</td>\n",
       "      <td>-0.015433</td>\n",
       "      <td>0.003972</td>\n",
       "      <td>-0.032042</td>\n",
       "      <td>-0.043013</td>\n",
       "      <td>-0.009284</td>\n",
       "      <td>0.004468</td>\n",
       "      <td>-0.033713</td>\n",
       "      <td>1.000000</td>\n",
       "      <td>0.011327</td>\n",
       "    </tr>\n",
       "    <tr>\n",
       "      <th>Dietary Habits_encoded</th>\n",
       "      <td>0.059356</td>\n",
       "      <td>-0.054718</td>\n",
       "      <td>0.092421</td>\n",
       "      <td>-0.004959</td>\n",
       "      <td>-0.026435</td>\n",
       "      <td>0.114964</td>\n",
       "      <td>0.030500</td>\n",
       "      <td>0.087147</td>\n",
       "      <td>0.009453</td>\n",
       "      <td>0.210280</td>\n",
       "      <td>0.011327</td>\n",
       "      <td>1.000000</td>\n",
       "    </tr>\n",
       "  </tbody>\n",
       "</table>\n",
       "</div>"
      ],
      "text/plain": [
       "                                    Gender       Age  Academic Pressure  \\\n",
       "Gender                            1.000000  0.005933          -0.024746   \n",
       "Age                               0.005933  1.000000          -0.030287   \n",
       "Academic Pressure                -0.024746 -0.030287           1.000000   \n",
       "CGPA                              0.038359 -0.007411          -0.021276   \n",
       "Study Satisfaction               -0.009073  0.072552          -0.119791   \n",
       "suicidal thoughts                 0.005533 -0.102067           0.265533   \n",
       "Study Hours                       0.011328 -0.032205           0.097818   \n",
       "Financial Stress                 -0.004564 -0.094063           0.152639   \n",
       "Family History of Mental Illness -0.013845 -0.001856           0.030116   \n",
       "Depression                        0.003232 -0.197623           0.474682   \n",
       "Sleep Duration_encoded            0.005481 -0.000052          -0.009565   \n",
       "Dietary Habits_encoded            0.059356 -0.054718           0.092421   \n",
       "\n",
       "                                      CGPA  Study Satisfaction  \\\n",
       "Gender                            0.038359           -0.009073   \n",
       "Age                              -0.007411            0.072552   \n",
       "Academic Pressure                -0.021276           -0.119791   \n",
       "CGPA                              1.000000           -0.049639   \n",
       "Study Satisfaction               -0.049639            1.000000   \n",
       "suicidal thoughts                 0.013098           -0.098392   \n",
       "Study Hours                       0.006099           -0.043836   \n",
       "Financial Stress                  0.014274           -0.075372   \n",
       "Family History of Mental Illness -0.004419           -0.000586   \n",
       "Depression                        0.031478           -0.189568   \n",
       "Sleep Duration_encoded           -0.015433            0.003972   \n",
       "Dietary Habits_encoded           -0.004959           -0.026435   \n",
       "\n",
       "                                  suicidal thoughts  Study Hours  \\\n",
       "Gender                                     0.005533     0.011328   \n",
       "Age                                       -0.102067    -0.032205   \n",
       "Academic Pressure                          0.265533     0.097818   \n",
       "CGPA                                       0.013098     0.006099   \n",
       "Study Satisfaction                        -0.098392    -0.043836   \n",
       "suicidal thoughts                          1.000000     0.117204   \n",
       "Study Hours                                0.117204     1.000000   \n",
       "Financial Stress                           0.211259     0.078887   \n",
       "Family History of Mental Illness           0.025963     0.014590   \n",
       "Depression                                 0.550010     0.208990   \n",
       "Sleep Duration_encoded                    -0.032042    -0.043013   \n",
       "Dietary Habits_encoded                     0.114964     0.030500   \n",
       "\n",
       "                                  Financial Stress  \\\n",
       "Gender                                   -0.004564   \n",
       "Age                                      -0.094063   \n",
       "Academic Pressure                         0.152639   \n",
       "CGPA                                      0.014274   \n",
       "Study Satisfaction                       -0.075372   \n",
       "suicidal thoughts                         0.211259   \n",
       "Study Hours                               0.078887   \n",
       "Financial Stress                          1.000000   \n",
       "Family History of Mental Illness          0.005212   \n",
       "Depression                                0.364610   \n",
       "Sleep Duration_encoded                   -0.009284   \n",
       "Dietary Habits_encoded                    0.087147   \n",
       "\n",
       "                                  Family History of Mental Illness  \\\n",
       "Gender                                                   -0.013845   \n",
       "Age                                                      -0.001856   \n",
       "Academic Pressure                                         0.030116   \n",
       "CGPA                                                     -0.004419   \n",
       "Study Satisfaction                                       -0.000586   \n",
       "suicidal thoughts                                         0.025963   \n",
       "Study Hours                                               0.014590   \n",
       "Financial Stress                                          0.005212   \n",
       "Family History of Mental Illness                          1.000000   \n",
       "Depression                                                0.053792   \n",
       "Sleep Duration_encoded                                    0.004468   \n",
       "Dietary Habits_encoded                                    0.009453   \n",
       "\n",
       "                                  Depression  Sleep Duration_encoded  \\\n",
       "Gender                              0.003232                0.005481   \n",
       "Age                                -0.197623               -0.000052   \n",
       "Academic Pressure                   0.474682               -0.009565   \n",
       "CGPA                                0.031478               -0.015433   \n",
       "Study Satisfaction                 -0.189568                0.003972   \n",
       "suicidal thoughts                   0.550010               -0.032042   \n",
       "Study Hours                         0.208990               -0.043013   \n",
       "Financial Stress                    0.364610               -0.009284   \n",
       "Family History of Mental Illness    0.053792                0.004468   \n",
       "Depression                          1.000000               -0.033713   \n",
       "Sleep Duration_encoded             -0.033713                1.000000   \n",
       "Dietary Habits_encoded              0.210280                0.011327   \n",
       "\n",
       "                                  Dietary Habits_encoded  \n",
       "Gender                                          0.059356  \n",
       "Age                                            -0.054718  \n",
       "Academic Pressure                               0.092421  \n",
       "CGPA                                           -0.004959  \n",
       "Study Satisfaction                             -0.026435  \n",
       "suicidal thoughts                               0.114964  \n",
       "Study Hours                                     0.030500  \n",
       "Financial Stress                                0.087147  \n",
       "Family History of Mental Illness                0.009453  \n",
       "Depression                                      0.210280  \n",
       "Sleep Duration_encoded                          0.011327  \n",
       "Dietary Habits_encoded                          1.000000  "
      ]
     },
     "execution_count": 26,
     "metadata": {},
     "output_type": "execute_result"
    }
   ],
   "source": [
    "df1.corr()"
   ]
  },
  {
   "cell_type": "code",
   "execution_count": 27,
   "id": "33b06767-3a43-486a-a852-eda655f2d647",
   "metadata": {},
   "outputs": [
    {
     "data": {
      "image/png": "[encoded data removed]",
      "text/plain": [
       "<Figure size 640x480 with 2 Axes>"
      ]
     },
     "metadata": {},
     "output_type": "display_data"
    }
   ],
   "source": [
    "sns.heatmap(df1.corr(), annot=True, cmap=\"coolwarm\")\n",
    "plt.show()"
   ]
  },
  {
   "cell_type": "code",
   "execution_count": 28,
   "id": "263a7d95-6600-4343-9fb5-704f1774b7f2",
   "metadata": {},
   "outputs": [
    {
     "data": {
      "text/plain": [
       "Depression                          1.000000\n",
       "suicidal thoughts                   0.550010\n",
       "Academic Pressure                   0.474682\n",
       "Financial Stress                    0.364610\n",
       "Dietary Habits_encoded              0.210280\n",
       "Study Hours                         0.208990\n",
       "Family History of Mental Illness    0.053792\n",
       "CGPA                                0.031478\n",
       "Gender                              0.003232\n",
       "Sleep Duration_encoded             -0.033713\n",
       "Study Satisfaction                 -0.189568\n",
       "Age                                -0.197623\n",
       "Name: Depression, dtype: float64"
      ]
     },
     "execution_count": 28,
     "metadata": {},
     "output_type": "execute_result"
    }
   ],
   "source": [
    "df1.corr()['Depression'].sort_values(ascending= False)"
   ]
  },
  {
   "cell_type": "code",
   "execution_count": 29,
   "id": "1ddf5d90-7312-4afb-a584-3bdce9e39755",
   "metadata": {},
   "outputs": [
    {
     "name": "stdout",
     "output_type": "stream",
     "text": [
      "<class 'pandas.core.frame.DataFrame'>\n",
      "Index: 21743 entries, 0 to 21820\n",
      "Data columns (total 6 columns):\n",
      " #   Column                  Non-Null Count  Dtype  \n",
      "---  ------                  --------------  -----  \n",
      " 0   Age                     21743 non-null  int64  \n",
      " 1   Academic Pressure       21743 non-null  int64  \n",
      " 2   suicidal thoughts       21743 non-null  int64  \n",
      " 3   Study Hours             21743 non-null  int64  \n",
      " 4   Financial Stress        21743 non-null  float64\n",
      " 5   Dietary Habits_encoded  21743 non-null  int32  \n",
      "dtypes: float64(1), int32(1), int64(4)\n",
      "memory usage: 1.1 MB\n"
     ]
    }
   ],
   "source": [
    "x = df1.drop(columns=[\"Depression\",\"Gender\",\"Study Satisfaction\",\"CGPA\",\"Family History of Mental Illness\",\"Sleep Duration_encoded\"])\n",
    "x.info()"
   ]
  },
  {
   "cell_type": "code",
   "execution_count": 30,
   "id": "bd69d67b-1bd0-4171-8744-4d695b194e33",
   "metadata": {},
   "outputs": [],
   "source": [
    "y=df[[\"Depression\"]]"
   ]
  },
  {
   "cell_type": "code",
   "execution_count": 31,
   "id": "7f54e2d5-4b07-4b42-a399-1511c26533bb",
   "metadata": {},
   "outputs": [
    {
     "data": {
      "text/plain": [
       "(array([[-1.09872757, -0.05568358, -1.26291626, -1.64473309,  0.62801172,\n",
       "         -1.35691299],\n",
       "        [-0.84918109, -0.05568358, -1.26291626,  1.30797161, -0.75894053,\n",
       "          1.1538199 ],\n",
       "        [ 1.39673719,  1.37815838,  0.79181814,  1.03954391,  0.62801172,\n",
       "          1.1538199 ],\n",
       "        ...,\n",
       "        [ 0.14900481,  1.37815838,  0.79181814,  0.23426081, -0.0654644 ,\n",
       "         -0.10154654],\n",
       "        [ 1.64628367, -1.48952555, -1.26291626,  0.77111621, -0.0654644 ,\n",
       "          1.1538199 ],\n",
       "        [-0.84918109, -1.48952555,  0.79181814,  0.77111621,  1.32148785,\n",
       "          1.1538199 ]]),\n",
       " array([[ 0.65778752,  0.64959531,  0.77578452,  0.23471708, -0.7793716 ,\n",
       "         -1.37341098],\n",
       "        [ 0.65778752, -1.48630944, -1.28901773,  0.76748566, -0.08679148,\n",
       "         -1.37341098],\n",
       "        [-0.59198003, -0.06237294, -1.28901773,  1.03386995, -1.47195171,\n",
       "         -1.37341098],\n",
       "        ...,\n",
       "        [ 1.15769454,  0.64959531, -1.28901773, -1.36358866, -1.47195171,\n",
       "         -0.11408896],\n",
       "        [ 0.90774103,  1.36156356,  0.77578452,  0.76748566, -0.08679148,\n",
       "          1.14523306],\n",
       "        [-0.59198003, -0.06237294,  0.77578452,  1.30025424,  1.29836874,\n",
       "          1.14523306]]))"
      ]
     },
     "execution_count": 31,
     "metadata": {},
     "output_type": "execute_result"
    }
   ],
   "source": [
    "import pandas as pd\n",
    "from sklearn.model_selection import train_test_split\n",
    "from sklearn.preprocessing import StandardScaler\n",
    "\n",
    "X_train, X_test, y_train, y_test = train_test_split(x, y, test_size=0.2, random_state=42)\n",
    "\n",
    "scaler = StandardScaler()\n",
    "X_train_scaled = scaler.fit_transform(X_train)\n",
    "X_test_scaled = scaler.fit_transform(X_test)\n",
    "X_train_scaled,X_test_scaled"
   ]
  },
  {
   "cell_type": "code",
   "execution_count": 32,
   "id": "06836e6a-3901-4a28-a5d3-34fd77ac0bb7",
   "metadata": {},
   "outputs": [
    {
     "name": "stdout",
     "output_type": "stream",
     "text": [
      "Accuracy score 0.8369740170154059\n",
      "F1 score 0.8553946563328574\n",
      "Precision score 0.8483009708737864\n",
      "Recall Score 0.862607980255039\n",
      "Confusion_matrix [[1543  375]\n",
      " [ 334 2097]]\n"
     ]
    }
   ],
   "source": [
    "\n",
    "from sklearn.linear_model import LogisticRegression\n",
    "from sklearn.metrics import accuracy_score, f1_score, precision_score, recall_score, confusion_matrix\n",
    "\n",
    "# Logistic Regression model\n",
    "lr = LogisticRegression()\n",
    "lr.fit(X_train_scaled, y_train)  \n",
    "y_pred = lr.predict(X_test_scaled)\n",
    "\n",
    "# Evaluation Metrics\n",
    "print(\"Accuracy score\",accuracy_score(y_test,y_pred))\n",
    "print(\"F1 score\",f1_score(y_test,y_pred))\n",
    "print(\"Precision score\",precision_score(y_test,y_pred))\n",
    "print(\"Recall Score\",recall_score(y_test,y_pred))\n",
    "print(\"Confusion_matrix\",confusion_matrix(y_test,y_pred))"
   ]
  },
  {
   "cell_type": "code",
   "execution_count": 33,
   "id": "540ff3ce-3596-42be-b1e4-990392057504",
   "metadata": {},
   "outputs": [
    {
     "name": "stdout",
     "output_type": "stream",
     "text": [
      "Accuracy score: 0.8266268107610945\n",
      "F1 score: 0.8352992573176059\n",
      "Precision score: 0.8905449464368886\n",
      "Recall Score: 0.7865076100370219\n",
      "Confusion matrix:\n",
      " [[1683  235]\n",
      " [ 519 1912]]\n"
     ]
    }
   ],
   "source": [
    "import numpy as np\n",
    "from sklearn.metrics import confusion_matrix, accuracy_score, precision_score, recall_score, f1_score\n",
    "\n",
    "y_prob = lr.predict_proba(X_test_scaled)[:, 1]\n",
    "\n",
    "# Choose a higher threshold, e.g., 0.6 or 0.65\n",
    "threshold = 0.65\n",
    "\n",
    "# Predict based on new threshold\n",
    "y_pred_thresh = (y_prob >= threshold).astype(int)\n",
    "\n",
    "# Evaluate\n",
    "print(\"Accuracy score:\", accuracy_score(y_test, y_pred_thresh))\n",
    "print(\"F1 score:\", f1_score(y_test, y_pred_thresh))\n",
    "print(\"Precision score:\", precision_score(y_test, y_pred_thresh))\n",
    "print(\"Recall Score:\", recall_score(y_test, y_pred_thresh))\n",
    "print(\"Confusion matrix:\\n\", confusion_matrix(y_test, y_pred_thresh))\n"
   ]
  },
  {
   "cell_type": "code",
   "execution_count": 34,
   "id": "24b032a5-212b-411f-8a59-a4bfe02e136c",
   "metadata": {},
   "outputs": [
    {
     "name": "stdout",
     "output_type": "stream",
     "text": [
      "Depression\n",
      "1             9553\n",
      "0             7841\n",
      "Name: count, dtype: int64\n"
     ]
    }
   ],
   "source": [
    "print(y_train.value_counts())"
   ]
  },
  {
   "cell_type": "code",
   "execution_count": 35,
   "id": "24dda14f-99f9-4503-a586-df15a1e4d05f",
   "metadata": {},
   "outputs": [
    {
     "name": "stdout",
     "output_type": "stream",
     "text": [
      "Accuracy: 0.825936997010807\n",
      "Precision: 0.8534628378378378\n",
      "Recall: 0.8313451254627725\n",
      "F1 Score: 0.8422588039174828\n",
      "Confusion Matrix:\n",
      " [[1571  347]\n",
      " [ 410 2021]]\n"
     ]
    }
   ],
   "source": [
    "from sklearn.decomposition import PCA\n",
    "\n",
    "pca = PCA(n_components=3) \n",
    "X_train_pca = pca.fit_transform(X_train_scaled)\n",
    "X_test_pca = pca.transform(X_test_scaled)\n",
    "from sklearn.linear_model import LogisticRegression\n",
    "from sklearn.metrics import accuracy_score, precision_score, recall_score, f1_score, confusion_matrix\n",
    "\n",
    "# Use class_weight='balanced' to automatically adjust weights inversely proportional to class frequencies\n",
    "lr_weighted = LogisticRegression(class_weight='balanced')\n",
    "\n",
    "lr_weighted.fit(X_train_pca, y_train.values.ravel())\n",
    "\n",
    "# Predict on test set\n",
    "y_pred = lr_weighted.predict(X_test_pca)\n",
    "\n",
    "# Metrics\n",
    "print(\"Accuracy:\", accuracy_score(y_test, y_pred))\n",
    "print(\"Precision:\", precision_score(y_test, y_pred))\n",
    "print(\"Recall:\", recall_score(y_test, y_pred))\n",
    "print(\"F1 Score:\", f1_score(y_test, y_pred))\n",
    "print(\"Confusion Matrix:\\n\", confusion_matrix(y_test, y_pred))\n"
   ]
  },
  {
   "cell_type": "code",
   "execution_count": 36,
   "id": "a1954330-dde3-49e2-b0e5-ccefa0ac7761",
   "metadata": {},
   "outputs": [
    {
     "data": {
      "text/plain": [
       "['logistic_model.pkl']"
      ]
     },
     "execution_count": 36,
     "metadata": {},
     "output_type": "execute_result"
    }
   ],
   "source": [
    "import joblib\n",
    "\n",
    "# Save the PCA transformer and the trained logistic regression model\n",
    "joblib.dump(pca, \"pca_transformer.pkl\")\n",
    "joblib.dump(lr_weighted, \"logistic_model.pkl\")"
   ]
  },
  {
   "cell_type": "code",
   "execution_count": null,
   "id": "6aed94dc-1e94-4410-9308-c85bdcc6245e",
   "metadata": {},
   "outputs": [],
   "source": []
  }
 ],
 "metadata": {
  "kernelspec": {
   "display_name": "Python [conda env:base] *",
   "language": "python",
   "name": "conda-base-py"
  },
  "language_info": {
   "codemirror_mode": {
    "name": "ipython",
    "version": 3
   },
   "file_extension": ".py",
   "mimetype": "text/x-python",
   "name": "python",
   "nbconvert_exporter": "python",
   "pygments_lexer": "ipython3",
   "version": "3.12.7"
  }
 },
 "nbformat": 4,
 "nbformat_minor": 5
}
